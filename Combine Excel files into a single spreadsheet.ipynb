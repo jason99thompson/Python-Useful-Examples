{
 "cells": [
  {
   "cell_type": "code",
   "execution_count": 35,
   "metadata": {
    "collapsed": true
   },
   "outputs": [],
   "source": [
    "import os\n",
    "from os import walk\n",
    "import openpyxl"
   ]
  },
  {
   "cell_type": "code",
   "execution_count": 36,
   "metadata": {
    "collapsed": true
   },
   "outputs": [],
   "source": [
    "# Get the filenames of all the Excel files\n",
    "\n",
    "# Get names of all files in directory\n",
    "all_files = []\n",
    "\n",
    "for (dirpath, dirnames, filenames) in walk('.'):\n",
    "    all_files.extend(filenames)\n",
    "    break\n",
    "\n",
    "\n",
    "# Now just get the files that are Excel files\n",
    "files_to_process = []\n",
    "    \n",
    "for record in all_files:\n",
    "    if record.find(\".xlsx\") > 0:\n",
    "        files_to_process.append(record)   "
   ]
  },
  {
   "cell_type": "code",
   "execution_count": 37,
   "metadata": {},
   "outputs": [
    {
     "name": "stderr",
     "output_type": "stream",
     "text": [
      "C:\\Users\\thompja\\AppData\\Local\\Continuum\\Anaconda3\\lib\\site-packages\\openpyxl\\reader\\worksheet.py:310: UserWarning: Unknown extension is not supported and will be removed\n",
      "  warn(msg)\n"
     ]
    }
   ],
   "source": [
    "# Create Spreadsheet with combined results\n",
    "combined_wb = openpyxl.Workbook()\n",
    "# combined_wb.create_sheet(index=0, title='Combined_CM_Changes')\n",
    "combined_sheet = combined_wb.active #combined_wb.get_sheet_by_name('Combined_CM_Changes')\n",
    "\n",
    "combined_row = 0\n",
    "\n",
    "# loop through each CM spreadsheet\n",
    "for wb_file in files_to_process:\n",
    "    wb = openpyxl.load_workbook(wb_file)\n",
    "\n",
    "    # loop through each sheet\n",
    "    for sheet in wb:\n",
    "        high_row = sheet.max_row\n",
    "        high_col = sheet.max_column\n",
    "        # loop through rows and cols\n",
    "        for row in range(1, high_row):\n",
    "            combined_row += 1 # move to next row in combined spreadsheet\n",
    "            \n",
    "            # Record spreadsheet name, sheet name and row number on each row            \n",
    "            combined_sheet.cell(row=combined_row, column=1, value=wb_file) \n",
    "            combined_sheet.cell(row=combined_row, column=2, value=sheet.title)\n",
    "            combined_sheet.cell(row=combined_row, column=3, value=row)\n",
    "            \n",
    "            for col in range(1, high_col):\n",
    "                # record the column cell values in the row\n",
    "                cell_value = sheet.cell(row=row, column=col).value\n",
    "                combined_sheet.cell(row=combined_row, column=3+col, value=cell_value)\n",
    "\n",
    "\n",
    "# Save the combined spreadsheet\n",
    "combined_wb.save('CM Combined Changes.xlsx') \n",
    "        "
   ]
  }
 ],
 "metadata": {
  "kernelspec": {
   "display_name": "Python 3",
   "language": "python",
   "name": "python3"
  },
  "language_info": {
   "codemirror_mode": {
    "name": "ipython",
    "version": 3
   },
   "file_extension": ".py",
   "mimetype": "text/x-python",
   "name": "python",
   "nbconvert_exporter": "python",
   "pygments_lexer": "ipython3",
   "version": "3.6.1"
  }
 },
 "nbformat": 4,
 "nbformat_minor": 2
}
