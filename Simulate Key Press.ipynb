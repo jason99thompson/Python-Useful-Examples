{
 "cells": [
  {
   "cell_type": "markdown",
   "metadata": {},
   "source": [
    "# Simulates key press\n",
    "\n",
    "Press a keyboard key at regular intervals so that the computer does not go into auto lock and the VPN connection stays live.\n",
    "\n",
    "Screen also turned off"
   ]
  },
  {
   "cell_type": "code",
   "execution_count": 3,
   "metadata": {},
   "outputs": [
    {
     "name": "stdout",
     "output_type": "stream",
     "text": [
      "Stop auto key press? Enter y: \n",
      "Stop auto key press? Enter y: \n",
      "Stop auto key press? Enter y: \n",
      "Stop auto key press? Enter y: q\n",
      "Stop auto key press? Enter y: \n",
      "Stop auto key press? Enter y: q\n",
      "Stop auto key press? Enter y: q\n",
      "Stop auto key press? Enter y: q\n",
      "Stop auto key press? Enter y: \n",
      "Stop auto key press? Enter y: q\n",
      "Stop auto key press? Enter y: q\n",
      "Stop auto key press? Enter y: q\n",
      "Stop auto key press? Enter y: q\n",
      "Stop auto key press? Enter y: \n",
      "Stop auto key press? Enter y: q\n",
      "Stop auto key press? Enter y: \n",
      "Stop auto key press? Enter y: q\n",
      "Stop auto key press? Enter y: \n",
      "Stop auto key press? Enter y: q\n",
      "Stop auto key press? Enter y: \n",
      "Stop auto key press? Enter y: y\n"
     ]
    }
   ],
   "source": [
    "import pyautogui\n",
    "from pyautogui import press, typewrite, hotkey\n",
    "import threading, time\n",
    "import win32gui\n",
    "import win32con\n",
    "\n",
    "pyautogui.FAILSAFE = True\n",
    "\n",
    "pyautogui.PAUSE = 200 # seconds between each key press\n",
    "\n",
    "def auto_continue():\n",
    "    pyautogui.press('q') # random key \n",
    "    pyautogui.press('enter')\n",
    "    # Turn off screen from: https://github.com/arjun024/turn-off-screen\n",
    "    SC_MONITORPOWER = 0xF170\n",
    "    win32gui.SendMessage(win32con.HWND_BROADCAST, win32con.WM_SYSCOMMAND, SC_MONITORPOWER, 2)\n",
    "    \n",
    "    \n",
    "while True: \n",
    "    threadObj = threading.Thread(target=auto_continue)\n",
    "    threadObj.start()\n",
    "    response = input('Stop auto key press? Enter y: ')\n",
    "    if response == 'y':\n",
    "        break"
   ]
  }
 ],
 "metadata": {
  "kernelspec": {
   "display_name": "Python 3",
   "language": "python",
   "name": "python3"
  },
  "language_info": {
   "codemirror_mode": {
    "name": "ipython",
    "version": 3
   },
   "file_extension": ".py",
   "mimetype": "text/x-python",
   "name": "python",
   "nbconvert_exporter": "python",
   "pygments_lexer": "ipython3",
   "version": "3.6.1"
  }
 },
 "nbformat": 4,
 "nbformat_minor": 2
}
