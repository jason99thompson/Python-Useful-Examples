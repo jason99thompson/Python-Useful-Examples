{
 "cells": [
  {
   "cell_type": "markdown",
   "metadata": {},
   "source": [
    "# Extract Daily Oracle Emails and Copy to Spreadsheet"
   ]
  },
  {
   "cell_type": "markdown",
   "metadata": {},
   "source": [
    "Daily Oracle emails contain 2 types of tables for panels 2, 5, 7:\n",
    "    1. The first is a current summary of the panels. \n",
    "    2. The second is a history table for each panel. Only the lastest history table is needed\n",
    "    \n",
    "The emails are extracted, parsed and saved into a consolidated spreadsheet"
   ]
  },
  {
   "cell_type": "markdown",
   "metadata": {},
   "source": [
    "### Global Parameters"
   ]
  },
  {
   "cell_type": "code",
   "execution_count": 34,
   "metadata": {},
   "outputs": [],
   "source": [
    "# Spreadsheet settings\n",
    "spreadsheet_directory = 'C:/Users/thompja/OneDrive - Sky/106 Panel Expansion'\n",
    "spreadsheet_to_open = 'Oracle Panel Data From Email.xlsx'\n",
    "sheet_to_open = 'Oracle Report Data'\n",
    "\n",
    "# Output spreadsheet rows and cols used to store the email tables\n",
    "table_output_col_by_table = [1, 10] # start cols for each table\n",
    "spreadsheet_first_data_row = 5 # First row with data in spreadsheet. Same for each table\n",
    "table_2_num_cols = 8 # History table has this many cols\n",
    "table_date_col = [1, 2] # For each table there is one col with a date. \n",
    "\n",
    "# Email folder and subfolder that contains the emails to process\n",
    "inbox_index = 6\n",
    "subfldr_index = 8\n",
    "\n",
    "# Message Settings\n",
    "num_tables_to_process = 2 # the first x tables in the messge to process\n",
    "\n",
    "# When searching through the messge the row above the start and below the end of data can be found with these settings\n",
    "start_table_pos = 25\n",
    "start_table_char = '-'\n",
    "end_table_pos = 25\n",
    "end_table_char = '-'\n",
    "\n",
    "\n"
   ]
  },
  {
   "cell_type": "markdown",
   "metadata": {},
   "source": [
    "#### Table Schemas\n",
    "\n",
    "Need to define a schema to translate the tables in the email to columns. \n",
    "Email has fixed length tables:"
   ]
  },
  {
   "cell_type": "code",
   "execution_count": 35,
   "metadata": {
    "collapsed": true
   },
   "outputs": [],
   "source": [
    "# Table 1: Snapshot - amend as required\n",
    "\n",
    "schema_snapshot = [['dated', 0, 9]]\n",
    "schema_snapshot.append(['panel', 10, 20])\n",
    "schema_snapshot.append(['panel_subs', 21, 31])\n",
    "schema_snapshot.append(['unique_stb', 32, 42])\n",
    "schema_snapshot.append(['pct_success', 43, 54])\n",
    "\n",
    "\n",
    "# Table 2: History - amend as required\n",
    "schema_history = [['panel', 0, 10]]\n",
    "schema_history.append(['on_panel', 11, 21])\n",
    "schema_history.append(['new_boxes', 22, 32])\n",
    "schema_history.append(['connected', 33, 43])\n",
    "schema_history.append(['not_connected', 44, 57])\n",
    "schema_history.append(['last_day', 58, 68])\n",
    "\n",
    "\n",
    "# Combine the individual table schemas into a single list which can be looped through\n",
    "table_schemas = [schema_snapshot]\n",
    "table_schemas.append(schema_history)\n",
    "\n"
   ]
  },
  {
   "cell_type": "markdown",
   "metadata": {},
   "source": [
    "### Import Packages"
   ]
  },
  {
   "cell_type": "code",
   "execution_count": 36,
   "metadata": {
    "collapsed": true
   },
   "outputs": [],
   "source": [
    "import win32com.client\n",
    "import openpyxl\n",
    "import numpy as np\n",
    "import datetime\n",
    "import time\n",
    "import calendar\n",
    "import os"
   ]
  },
  {
   "cell_type": "markdown",
   "metadata": {},
   "source": [
    "### Define Functions"
   ]
  },
  {
   "cell_type": "code",
   "execution_count": 37,
   "metadata": {},
   "outputs": [],
   "source": [
    "\n",
    "def most_recent_date_in_spreadsheet(ws, search_row, search_col):\n",
    "    # search through the search_col on the sheet ws for the most recent date\n",
    "    # search_col must have dates\n",
    "    # return the row of the last non-empty cell and the most recent date\n",
    "    recent_date = calendar.timegm(time.strptime('10/11/17', \"%d/%m/%y\")) # default 1900 date        \n",
    "\n",
    "    while True:\n",
    "        if ws.cell(row=search_row, column=search_col).value != None:        \n",
    "            date_string = ws.cell(row=search_row, column=search_col).value\n",
    "            excel_date = calendar.timegm(time.strptime(date_string, \"%d/%m/%y\"))\n",
    "            if excel_date > recent_date:\n",
    "                recent_date = excel_date\n",
    "            search_row += 1 # increment to next row in spreadsheet\n",
    "        else:\n",
    "            break\n",
    "                    \n",
    "    return (search_row, recent_date)\n",
    "\n",
    "    \n",
    "def open_email(inbox_index, subfldr_index):\n",
    "    # return all messages in subfldr_index which is a subfolder of inbox_index\n",
    "    outlook = win32com.client.Dispatch(\"Outlook.Application\").GetNamespace(\"MAPI\")\n",
    "\n",
    "    inbox = outlook.GetDefaultFolder(inbox_index) \n",
    "\n",
    "    subfldr = inbox.Folders[subfldr_index] \n",
    "    messages = subfldr.Items\n",
    "\n",
    "    return messages\n",
    "\n",
    "\n",
    "\n",
    "def format_one_line_of_message(row_string, table_number, schema):\n",
    "    # process a single line of message\n",
    "    # row_string: Single line of the message to process\n",
    "    # schema: List of lists with how to split the string into columns: 1st col is name of header; \n",
    "    #                              2nd col is start col; 3rd col is end col. Row for each col in table         \n",
    "\n",
    "    number_of_cols_in_schema = len(schema) # rows in schema represent cols in the output table\n",
    "    chars_in_schema = schema[number_of_cols_in_schema-1][2]                     \n",
    "\n",
    "    if len(row_string) >= chars_in_schema:\n",
    "        # message string is at least as long as the schema requires so continue\n",
    "        row_append = [table_number] \n",
    "\n",
    "        # loop through each schema col\n",
    "        for col in range(number_of_cols_in_schema):\n",
    "            append_string = row_string[schema[col][1] : schema[col][2]]\n",
    "            row_append.append(append_string)\n",
    "\n",
    "    return row_append\n",
    "\n",
    "\n",
    "\n",
    "def delete_data_from_cells (ws, start_row, start_col, num_cols):    \n",
    "    # set cells values to None on worksheet ws - None does not work so set to ''\n",
    "    # start with row and start_col\n",
    "    # set the next num_cols to none\n",
    "    # move onto the next row and if start_col is not none then repeat\n",
    "    \n",
    "    row = start_row\n",
    "    \n",
    "    while True:\n",
    "        if ws.cell(row=row, column=start_col).value == None or ws.cell(row=row, column=start_col).value == '':\n",
    "            break\n",
    "        else:\n",
    "            for col in range(num_cols+1):\n",
    "                ws.cell(row=row, column=start_col + col, value='') \n",
    "               \n",
    "        row += 1\n",
    "    \n",
    "    # return the start row of the table\n",
    "    return start_row\n",
    "    \n",
    "\n",
    "   "
   ]
  },
  {
   "cell_type": "markdown",
   "metadata": {},
   "source": [
    "### Function to Loop Through a Message"
   ]
  },
  {
   "cell_type": "code",
   "execution_count": 38,
   "metadata": {
    "collapsed": true
   },
   "outputs": [],
   "source": [
    "def loop_through_message(message_split, num_tables_to_process, table_schemas, start_table_pos, start_table_char, end_table_pos, end_table_char):\n",
    "\n",
    "    start_of_table_found = False\n",
    "    end_of_table = False\n",
    "    table_count = 0\n",
    "    processed_message = []\n",
    "    message_row = 0\n",
    "\n",
    "    \n",
    "    # loop through message line by line\n",
    "    # if not end of the table within the message\n",
    "    while not end_of_table or table_count<num_tables_to_process: # only first 2 tables in message to process        \n",
    "        row_string = message_split[message_row]\n",
    "\n",
    "        if start_of_table_found:\n",
    "            # Process the tables within the message\n",
    "            # first check if at end of table\n",
    "            if row_string[end_table_pos] == end_table_char:\n",
    "                # signifies the end of table\n",
    "                end_of_table = True\n",
    "                start_of_table_found = False # need to find the next table            \n",
    "            else:            \n",
    "                # still within table so format row of message\n",
    "                row_append = format_one_line_of_message(row_string, table_count, schema)                \n",
    "                processed_message.append(row_append)\n",
    "\n",
    "        elif len(row_string) > 0: # start of table not found yet so check if this row is the start\n",
    "            if row_string[start_table_pos] == start_table_char:\n",
    "                # start of next table found\n",
    "                start_of_table_found = True \n",
    "                end_of_table = False\n",
    "                table_count += 1 # keep track of how many tables we have processed\n",
    "                schema = table_schemas[table_count - 1]\n",
    "                number_of_cols_in_schema = len(schema)\n",
    "                chars_in_schema = schema[number_of_cols_in_schema-1][2]\n",
    "\n",
    "        message_row += 1\n",
    "\n",
    "    return processed_message  \n"
   ]
  },
  {
   "cell_type": "markdown",
   "metadata": {},
   "source": [
    "### Copy data to spreadsheet"
   ]
  },
  {
   "cell_type": "code",
   "execution_count": 39,
   "metadata": {
    "collapsed": true
   },
   "outputs": [],
   "source": [
    "# Copy to spreadsheet\n",
    "\n",
    "def copy_tables_to_spreadsheet(ws, spreadsheet_output_row, processed_message, table_output_col_by_table, message_sent_date, table_date_col):\n",
    "    \n",
    "    for data_row in processed_message:\n",
    "        cols = len(data_row)\n",
    "        table_number = data_row[0]\n",
    "        date_col = table_date_col[table_number-1]\n",
    "        spreadsheet_col = table_output_col_by_table[table_number - 1]\n",
    "        spreadsheet_row = spreadsheet_output_row[table_number - 1]\n",
    "        ws.cell(row=spreadsheet_row, column=spreadsheet_col, value=message_sent_date)\n",
    "        message_sent_date_excel = '=datevalue(\"' + message_sent_date +'\")'\n",
    "        ws.cell(row=spreadsheet_row, column=spreadsheet_col+1, value=message_sent_date_excel)        \n",
    "        for col in range(1, cols):\n",
    "            value_for_spreadsheet = data_row[col]\n",
    "            if col == date_col:                \n",
    "                # col is a date so just copy it\n",
    "                ws.cell(row=spreadsheet_row, column=col + spreadsheet_col + 1, value=value_for_spreadsheet)\n",
    "                # but also need to copy a datevalue form\n",
    "                date_string_excel = '=datevalue(\"' + value_for_spreadsheet +'\")'\n",
    "            else:\n",
    "                try:\n",
    "                    ws.cell(row=spreadsheet_row, column=col + spreadsheet_col + 1, value=float(value_for_spreadsheet))\n",
    "                except:\n",
    "                    ws.cell(row=spreadsheet_row, column=col + spreadsheet_col + 1, value=0)\n",
    "        \n",
    "        # last col is the excel datevalue of the date field\n",
    "        ws.cell(row=spreadsheet_output_row[table_number - 1], column=col + spreadsheet_col + 2, value=date_string_excel)\n",
    "        \n",
    "        spreadsheet_output_row[table_number - 1] += 1            \n",
    "    \n",
    "    return spreadsheet_output_row \n",
    "    "
   ]
  },
  {
   "cell_type": "markdown",
   "metadata": {},
   "source": [
    "## Main Code"
   ]
  },
  {
   "cell_type": "markdown",
   "metadata": {},
   "source": [
    "### Open the spreadsheet with the consolidated history\n",
    "work out:\n",
    "    1. the most recent email processed \n",
    "    2. the last empty row in the spreadsheet where further data can be added\n",
    "   "
   ]
  },
  {
   "cell_type": "code",
   "execution_count": 40,
   "metadata": {},
   "outputs": [],
   "source": [
    "# Open the spreadsheet which will be populated with the email data\n",
    "\n",
    "# Change working directory as files downloaded there\n",
    "os.chdir(spreadsheet_directory)\n",
    "\n",
    "# Open the spreadsheet which will be populated with the email data\n",
    "wb = openpyxl.load_workbook(spreadsheet_to_open)\n",
    "ws = wb[sheet_to_open]    \n",
    "\n",
    "\n",
    "# find end of snapshot/history data in spreadsheet and most recent email date\n",
    "\n",
    "table_snapshot = most_recent_date_in_spreadsheet(ws, 5, 1)\n",
    "table_snapshot_recent_row = table_snapshot[0]\n",
    "table_snapshot_recent_date = table_snapshot[1]\n",
    "\n",
    "table_history = most_recent_date_in_spreadsheet(ws, 5, 9)      \n",
    "table_history_recent_row = table_history[0]\n",
    "table_history_recent_date = table_history[1]        \n",
    "\n",
    "spreadsheet_output_row = [table_snapshot_recent_row, table_history_recent_row]\n",
    "       "
   ]
  },
  {
   "cell_type": "markdown",
   "metadata": {},
   "source": [
    "### Scan through the emails and copy to spreadsheet\n",
    "Go through each email in the Oracle email folder and:\n",
    "    1. if more recent that what is currently in spreasheet then process it\n",
    "    2. parse the data for the snaphot table and panel 5 history table\n",
    "    3. write the snapshot data to spreadsheet\n",
    "    4. record the most recent history for P5, deleting the existing history\n",
    "    5. save the updated spreadsheet"
   ]
  },
  {
   "cell_type": "code",
   "execution_count": 41,
   "metadata": {},
   "outputs": [],
   "source": [
    "##################################### Get Outlook Oracle email data and copy to spreadsheet ################################\n",
    "\n",
    "###### Open outlook and get emails \n",
    "\n",
    "messages = open_email(6, 8)\n",
    "\n",
    "for message in messages:\n",
    "    message_sent_date = message.SentOn.strftime(\"%d/%m/%y\")\n",
    "    message_sent_date_excel = '=datevalue(\"' + message_sent_date +'\")'\n",
    "    message_sent_date_python = calendar.timegm(time.strptime(message_sent_date, \"%d/%m/%y\"))\n",
    "\n",
    "    if message_sent_date_python > table_snapshot_recent_date:\n",
    "        message_split = message.body.splitlines()\n",
    "        processed_message = loop_through_message(message_split, num_tables_to_process, table_schemas, start_table_pos, start_table_char, end_table_pos, end_table_char)\n",
    "        spreadsheet_output_row[1] = delete_data_from_cells (ws, spreadsheet_first_data_row, table_output_col_by_table[1], table_2_num_cols)\n",
    "       \n",
    "        spreadsheet_output_row = copy_tables_to_spreadsheet(ws, spreadsheet_output_row, processed_message, table_output_col_by_table, message_sent_date, table_date_col)\n",
    "\n",
    "    \n",
    "# Save the combined spreadsheet\n",
    "wb.save(spreadsheet_to_open)  "
   ]
  }
 ],
 "metadata": {
  "kernelspec": {
   "display_name": "Python 3",
   "language": "python",
   "name": "python3"
  },
  "language_info": {
   "codemirror_mode": {
    "name": "ipython",
    "version": 3
   },
   "file_extension": ".py",
   "mimetype": "text/x-python",
   "name": "python",
   "nbconvert_exporter": "python",
   "pygments_lexer": "ipython3",
   "version": "3.6.1"
  }
 },
 "nbformat": 4,
 "nbformat_minor": 2
}
