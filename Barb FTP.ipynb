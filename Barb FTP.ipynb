{
 "cells": [
  {
   "cell_type": "markdown",
   "metadata": {},
   "source": [
    "# Copy BARB files from FTP site to local folder"
   ]
  },
  {
   "cell_type": "code",
   "execution_count": 1,
   "metadata": {
    "collapsed": true
   },
   "outputs": [],
   "source": [
    "from ftplib import FTP\n",
    "import os\n",
    "#import csv\n",
    "            "
   ]
  },
  {
   "cell_type": "code",
   "execution_count": 2,
   "metadata": {},
   "outputs": [
    {
     "data": {
      "text/plain": [
       "'250 Directory successfully changed.'"
      ]
     },
     "execution_count": 2,
     "metadata": {},
     "output_type": "execute_result"
    }
   ],
   "source": [
    "# Open connection to Barb FTP\n",
    "ftp = FTP('xxxxxxxxx')   # connect to host, default port\n",
    "ftp.login(user = 'xxxxx', passwd = 'xxxxxx') \n",
    "\n",
    "ftp.cwd('ClientFiles')      # files are on ClientFiles directory"
   ]
  },
  {
   "cell_type": "code",
   "execution_count": 4,
   "metadata": {
    "collapsed": true
   },
   "outputs": [],
   "source": [
    "# Change working directory as files downloaded there\n",
    "os.chdir('C:/Users/xxxxxxxxxxxx')"
   ]
  },
  {
   "cell_type": "code",
   "execution_count": 5,
   "metadata": {},
   "outputs": [
    {
     "name": "stdout",
     "output_type": "stream",
     "text": [
      "Getting B20171019.MAS.Z\n",
      "Getting B20171020.MAS.Z\n",
      "Getting B20171021.MAS.Z\n",
      "Getting B20171022.MAS.Z\n",
      "Getting B20171023.MAS.Z\n",
      "Getting B20171024.MAS.Z\n",
      "Getting B20171025.MAS.Z\n",
      "Getting B20171026.MAS.Z\n",
      "Getting B20171027.MAS.Z\n",
      "Getting B20171028.MAS.Z\n",
      "Getting B20171029.MAS.Z\n",
      "Getting B20171030.MAS.Z\n",
      "Getting B20171031.MAS.Z\n",
      "Getting B20171101.MAS.Z\n",
      "Getting B20171019.PV2.Z\n",
      "Getting B20171020.PV2.Z\n",
      "Getting B20171021.PV2.Z\n",
      "Getting B20171022.PV2.Z\n",
      "Getting B20171023.PV2.Z\n",
      "Getting B20171024.PV2.Z\n",
      "Getting B20171025.PV2.Z\n",
      "Getting B20171026.PV2.Z\n",
      "Getting B20171027.PV2.Z\n",
      "Getting B20171028.PV2.Z\n",
      "Getting B20171029.PV2.Z\n",
      "Getting B20171030.PV2.Z\n",
      "Getting B20171031.PV2.Z\n",
      "Getting B20171101.PV2.Z\n"
     ]
    }
   ],
   "source": [
    "# download MAS files\n",
    "\n",
    "filematch = '*.MAS*'\n",
    "\n",
    "for filename in ftp.nlst(filematch):\n",
    "    fhandle = open(filename, 'wb')\n",
    "    print ('Getting ' + filename) #Displays which file is being downloaded\n",
    "    ftp.retrbinary('RETR '+ filename, fhandle.write)\n",
    "    fhandle.close()\n",
    "\n",
    "    \n",
    "# download PV2 files   \n",
    "filematch = '*.PV2*' \n",
    "\n",
    "for filename in ftp.nlst(filematch):\n",
    "    fhandle = open(filename, 'wb')\n",
    "    print ('Getting ' + filename) #Displays which file is being downloaded\n",
    "    ftp.retrbinary('RETR '+ filename, fhandle.write)\n",
    "    fhandle.close()\n",
    "\n"
   ]
  },
  {
   "cell_type": "code",
   "execution_count": 6,
   "metadata": {},
   "outputs": [
    {
     "data": {
      "text/plain": [
       "'221 Goodbye.'"
      ]
     },
     "execution_count": 6,
     "metadata": {},
     "output_type": "execute_result"
    }
   ],
   "source": [
    "ftp.quit() "
   ]
  },
  {
   "cell_type": "markdown",
   "metadata": {},
   "source": [
    "## Ignore Below"
   ]
  },
  {
   "cell_type": "code",
   "execution_count": null,
   "metadata": {
    "collapsed": true
   },
   "outputs": [],
   "source": [
    "# Get list of files already downloaded\n",
    "#os.listdir('.') # get the files/directories\n",
    "#files_downloaded = [x for x in os.listdir('.') if x.startswith('B2')] # files ending in .txt only\n",
    "#print(files_downloaded)"
   ]
  },
  {
   "cell_type": "code",
   "execution_count": null,
   "metadata": {
    "collapsed": true
   },
   "outputs": [],
   "source": [
    "#ftp.retrlines('LIST')     # list directory contents"
   ]
  },
  {
   "cell_type": "code",
   "execution_count": null,
   "metadata": {
    "collapsed": true
   },
   "outputs": [],
   "source": [
    "#ftp.cwd('ClientFiles')\n",
    "#files = ftp.dir()\n",
    "#print (files)"
   ]
  },
  {
   "cell_type": "code",
   "execution_count": null,
   "metadata": {
    "collapsed": true
   },
   "outputs": [],
   "source": [
    "ftp.retrbinary('RETR B20171018.PV2.Z', open('B20171018.PV2.Z', 'wb').write)"
   ]
  },
  {
   "cell_type": "code",
   "execution_count": null,
   "metadata": {
    "collapsed": true
   },
   "outputs": [],
   "source": [
    "# filenames = ftp.retrlines('NLST')"
   ]
  }
 ],
 "metadata": {
  "kernelspec": {
   "display_name": "Python 3",
   "language": "python",
   "name": "python3"
  },
  "language_info": {
   "codemirror_mode": {
    "name": "ipython",
    "version": 3
   },
   "file_extension": ".py",
   "mimetype": "text/x-python",
   "name": "python",
   "nbconvert_exporter": "python",
   "pygments_lexer": "ipython3",
   "version": "3.6.1"
  }
 },
 "nbformat": 4,
 "nbformat_minor": 2
}
