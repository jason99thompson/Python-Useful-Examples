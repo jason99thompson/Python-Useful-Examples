{
 "cells": [
  {
   "cell_type": "markdown",
   "metadata": {},
   "source": [
    "# Unzip the Barb files"
   ]
  },
  {
   "cell_type": "code",
   "execution_count": 152,
   "metadata": {
    "collapsed": true
   },
   "outputs": [],
   "source": [
    "import os\n",
    "from os import walk\n",
    "import gzip\n",
    "import time\n",
    "import datetime\n"
   ]
  },
  {
   "cell_type": "code",
   "execution_count": 153,
   "metadata": {},
   "outputs": [],
   "source": [
    "# Open log file which records which files have been unzipped and when\n",
    "# and extract the filename which is the only info needed\n",
    "\n",
    "os.chdir('C:/Users/thompja/OneDrive - Sky/999 Barb Downloads/Synchronise_with_Olive_SFTP')\n",
    "log_file = open('Unzip_log.csv', 'r')\n",
    "log_list = log_file.readlines()\n",
    "log_file.close()\n",
    "\n",
    "log_filename_list = []\n",
    "\n",
    "for record in log_list:\n",
    "    first_comma = record.find(\",\")\n",
    "    log_filename_list.append(record[0:first_comma])   \n",
    "\n",
    " "
   ]
  },
  {
   "cell_type": "code",
   "execution_count": 154,
   "metadata": {},
   "outputs": [],
   "source": [
    "# Get the filenames of all the zipped files\n",
    "\n",
    "os.chdir('C:/Users/thompja/OneDrive - Sky/999 Barb Downloads')\n",
    "\n",
    "# Get names of all files in directory\n",
    "all_files = []\n",
    "\n",
    "for (dirpath, dirnames, filenames) in walk('.'):\n",
    "    all_files.extend(filenames)\n",
    "    break\n",
    "\n",
    "\n",
    "# Now just get the files that are Z files and not in the log file (means they have already been processed)\n",
    "zip_files_to_process = []\n",
    "    \n",
    "for record in all_files:\n",
    "    if record.find(\".Z\") > 0 and record not in log_filename_list:\n",
    "        zip_files_to_process.append(record)    \n"
   ]
  },
  {
   "cell_type": "code",
   "execution_count": 155,
   "metadata": {},
   "outputs": [],
   "source": [
    "# Unzip the chosen files\n",
    "\n",
    "os.chdir('C:/Users/thompja/OneDrive - Sky/999 Barb Downloads')\n",
    "zip_directory = 'C:/Users/thompja/OneDrive - Sky/999 Barb Downloads/Synchronise_with_Olive_SFTP/'\n",
    "\n",
    "log_file = open(zip_directory + 'Unzip_log.csv', 'a') # open log file to append zipped filenames to\n",
    "\n",
    "for filename in zip_files_to_process:\n",
    "    new_filename = filename[0:len(filename)-2] + '.CSV'\n",
    "    out_file = open(zip_directory+new_filename, 'w')\n",
    "    with gzip.open(filename,'rt') as f:        \n",
    "        for line in f:\n",
    "            out_file.write(line)\n",
    "        out_file.close()    \n",
    "        #Update the log file\n",
    "        now_epoch = time.time() # get timestamp now\n",
    "        now_formated = datetime.datetime.fromtimestamp(now_epoch).strftime('%Y-%m-%d %H:%M:%S') # format time\n",
    "        log_file.write(filename + ', '+ now_formated + '\\n')\n",
    "    \n",
    "log_file.close() \n"
   ]
  },
  {
   "cell_type": "markdown",
   "metadata": {},
   "source": [
    "## Ignore below"
   ]
  },
  {
   "cell_type": "code",
   "execution_count": 41,
   "metadata": {},
   "outputs": [
    {
     "name": "stdout",
     "output_type": "stream",
     "text": [
      "Last modified: Thu Nov  2 08:13:37 2017\n",
      "Thu Nov  2 08:13:37 2017\n"
     ]
    }
   ],
   "source": [
    "# Get \n",
    "#import datetime\n",
    "#result =os.path.getmtime('test.txt')\n",
    "#result2 = datetime.datetime.fromtimestamp(os.path.getctime(result))\n",
    "\n",
    "#print(result)\n",
    "# print(result2)\n",
    "\n",
    "#import os.path, time\n",
    "#print(\"Last modified: %s\" % time.ctime(os.path.getmtime(\"test.txt\")))\n",
    "#print(time.ctime(os.path.getmtime(\"test.txt\")))\n"
   ]
  }
 ],
 "metadata": {
  "kernelspec": {
   "display_name": "Python 3",
   "language": "python",
   "name": "python3"
  },
  "language_info": {
   "codemirror_mode": {
    "name": "ipython",
    "version": 3
   },
   "file_extension": ".py",
   "mimetype": "text/x-python",
   "name": "python",
   "nbconvert_exporter": "python",
   "pygments_lexer": "ipython3",
   "version": "3.6.1"
  }
 },
 "nbformat": 4,
 "nbformat_minor": 2
}
