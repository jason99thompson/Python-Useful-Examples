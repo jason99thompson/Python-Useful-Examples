{
 "cells": [
  {
   "cell_type": "markdown",
   "metadata": {},
   "source": [
    "# Useful Functions"
   ]
  },
  {
   "cell_type": "code",
   "execution_count": null,
   "metadata": {
    "collapsed": true
   },
   "outputs": [],
   "source": [
    "def most_recent_date_in_spreadsheet(ws, search_row, search_col):\n",
    "    # search through the search_col on the sheet ws for the most recent date\n",
    "    # search_col must have dates\n",
    "    # return the row of the last non-empty cell and the most recent date\n",
    "    recent_date = calendar.timegm(time.strptime('01/01/00', \"%d/%m/%y\")) # default 1900 date        \n",
    "\n",
    "    while True:\n",
    "        if ws.cell(row=search_row, column=search_col).value != None:        \n",
    "            date_string = ws.cell(row=search_row, column=search_col).value\n",
    "            excel_date = calendar.timegm(time.strptime(date_string, \"%d/%m/%y\"))\n",
    "            if excel_date > recent_date:\n",
    "                recent_date = excel_date\n",
    "            search_row += 1 # increment to next row in spreadsheet\n",
    "        else:\n",
    "            break\n",
    "                    \n",
    "    return (search_row, recent_date)"
   ]
  },
  {
   "cell_type": "code",
   "execution_count": null,
   "metadata": {
    "collapsed": true
   },
   "outputs": [],
   "source": [
    "def open_email(inbox_index, subfldr_index):\n",
    "    # return all messages in subfldr_index which is a subfolder of inbox_index\n",
    "    # standard inbox has index 6\n",
    "    \n",
    "    # import win32com.client\n",
    "    \n",
    "    outlook = win32com.client.Dispatch(\"Outlook.Application\").GetNamespace(\"MAPI\")\n",
    "\n",
    "    inbox = outlook.GetDefaultFolder(inbox_index) \n",
    "\n",
    "    subfldr = inbox.Folders[subfldr_index] \n",
    "    messages = subfldr.Items\n",
    "\n",
    "    return messages"
   ]
  },
  {
   "cell_type": "code",
   "execution_count": null,
   "metadata": {
    "collapsed": true
   },
   "outputs": [],
   "source": [
    "def format_one_line_of_message(row_string, table_number, schema):\n",
    "    # process a single line text row_string into table cols \n",
    "    # row_string: Single line of the message to process\n",
    "    # schema: List of lists with how to split the string into columns: 1st col is name of header; \n",
    "    #                              2nd col is start col; 3rd col is end col. \n",
    "    #                              Each list entry of represents a different table\n",
    "    # table_number: table schema to use in schema\n",
    "\n",
    "    number_of_cols_in_schema = len(schema) # rows in schema represent cols in the output table\n",
    "    chars_in_schema = schema[number_of_cols_in_schema-1][2]                     \n",
    "\n",
    "    if len(row_string) >= chars_in_schema:\n",
    "        # message string is at least as long as the schema requires so continue\n",
    "        row_append = [table_number] \n",
    "\n",
    "        # loop through each schema col\n",
    "        for col in range(number_of_cols_in_schema):\n",
    "            append_string = row_string[schema[col][1] : schema[col][2]]\n",
    "            row_append.append(append_string)\n",
    "\n",
    "    return row_append"
   ]
  },
  {
   "cell_type": "code",
   "execution_count": null,
   "metadata": {
    "collapsed": true
   },
   "outputs": [],
   "source": [
    "def delete_data_from_cells (ws, start_row, start_col, num_cols):    \n",
    "    # set cells values to None on worksheet ws - None does not work so set to ''\n",
    "    # start with row and start_col\n",
    "    # set the next num_cols to none\n",
    "    # move onto the next row and if start_col is not none or '' then repeat\n",
    "    \n",
    "    row = start_row\n",
    "    \n",
    "    while True:\n",
    "        if ws.cell(row=row, column=start_col).value == None or ws.cell(row=row, column=start_col).value == '':\n",
    "            break\n",
    "        else:\n",
    "            for col in range(num_cols+1):\n",
    "                ws.cell(row=row, column=start_col + col, value='') \n",
    "               \n",
    "        row += 1\n",
    "    \n",
    "    # return the start row of the table\n",
    "    return start_row"
   ]
  }
 ],
 "metadata": {
  "kernelspec": {
   "display_name": "Python 3",
   "language": "python",
   "name": "python3"
  },
  "language_info": {
   "codemirror_mode": {
    "name": "ipython",
    "version": 3
   },
   "file_extension": ".py",
   "mimetype": "text/x-python",
   "name": "python",
   "nbconvert_exporter": "python",
   "pygments_lexer": "ipython3",
   "version": "3.6.1"
  }
 },
 "nbformat": 4,
 "nbformat_minor": 2
}
